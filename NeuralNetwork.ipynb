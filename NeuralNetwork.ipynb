{
  "cells": [
    {
      "cell_type": "markdown",
      "metadata": {
        "id": "view-in-github",
        "colab_type": "text"
      },
      "source": [
        "<a href=\"https://colab.research.google.com/github/karma3983/PubNeu/blob/main/NeuralNetwork.ipynb\" target=\"_parent\"><img src=\"https://colab.research.google.com/assets/colab-badge.svg\" alt=\"Open In Colab\"/></a>"
      ]
    },
    {
      "cell_type": "code",
      "source": [
        "from google.colab import files\n",
        "\n",
        "uploaded = files.upload()"
      ],
      "metadata": {
        "colab": {
          "resources": {
            "http://localhost:8080/nbextensions/google.colab/files.js": {
              "data": "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",
              "ok": true,
              "headers": [
                [
                  "content-type",
                  "application/javascript"
                ]
              ],
              "status": 200,
              "status_text": ""
            }
          },
          "base_uri": "https://localhost:8080/",
          "height": 78
        },
        "id": "ifAuBsC2bxa5",
        "outputId": "d5495e78-8636-4b56-d66e-df1b5717a9cf"
      },
      "execution_count": null,
      "outputs": [
        {
          "output_type": "display_data",
          "data": {
            "text/plain": [
              "<IPython.core.display.HTML object>"
            ],
            "text/html": [
              "\n",
              "     <input type=\"file\" id=\"files-5901144a-21ab-46eb-bb3a-c6f5a39ac0bd\" name=\"files[]\" multiple disabled\n",
              "        style=\"border:none\" />\n",
              "     <output id=\"result-5901144a-21ab-46eb-bb3a-c6f5a39ac0bd\">\n",
              "      Upload widget is only available when the cell has been executed in the\n",
              "      current browser session. Please rerun this cell to enable.\n",
              "      </output>\n",
              "      <script src=\"/nbextensions/google.colab/files.js\"></script> "
            ]
          },
          "metadata": {}
        },
        {
          "output_type": "stream",
          "name": "stdout",
          "text": [
            "Saving test_data.csv to test_data.csv\n"
          ]
        }
      ]
    },
    {
      "cell_type": "code",
      "execution_count": null,
      "metadata": {
        "id": "MvobgbG9tKp7"
      },
      "outputs": [],
      "source": [
        "import numpy as np # 数値計算ライブラリ\n",
        "import csv # Excelファイル読み込み用\n",
        "import matplotlib.pyplot as plt # グラフ作成用\n",
        "%matplotlib inline"
      ]
    },
    {
      "cell_type": "markdown",
      "metadata": {
        "id": "1wIDxGYitKqS"
      },
      "source": [
        "# CSVの読み込み"
      ]
    },
    {
      "cell_type": "code",
      "execution_count": null,
      "metadata": {
        "id": "a_F2iq2otKqZ"
      },
      "outputs": [],
      "source": [
        "def load_csv(file_name):\n",
        "    with open(file_name) as f:\n",
        "        reader = csv.reader(f)\n",
        "        return np.array([record for record in reader]) # 内包表記（リスト）"
      ]
    },
    {
      "cell_type": "markdown",
      "metadata": {
        "id": "VjDVLqQBtKqd"
      },
      "source": [
        "## test data の読み込み"
      ]
    },
    {
      "cell_type": "code",
      "execution_count": null,
      "metadata": {
        "id": "FdhJ0swJtKqf"
      },
      "outputs": [],
      "source": [
        "# #test_data\n",
        "def set_data_test():\n",
        "    datas = load_csv('test_data.csv') # 読み込み\n",
        "\n",
        "    datas = datas[1:]\n",
        "\n",
        "    x_trains = datas[:, :-1].astype(np.float32) # 訓練データ\n",
        "    t_trains_text = datas[:, -1:] # 教師データ(ラベル)\n",
        "\n",
        "    t_trains = []\n",
        "    for t in t_trains_text:\n",
        "        if t == 'A':\n",
        "            t_trains.append(0)\n",
        "        elif t == 'B':\n",
        "            t_trains.append(1)\n",
        "        else:\n",
        "            t_trains.append(2) # C\n",
        "\n",
        "    # 本来なら訓練データとテストデータを分けるべきだが、今回は同一データとする\n",
        "    x_tests = x_trains\n",
        "    t_tests = t_trains\n",
        "\n",
        "    return x_trains, t_trains, x_tests, t_tests # 訓練データ、教師データ"
      ]
    },
    {
      "cell_type": "markdown",
      "metadata": {
        "id": "3giaVbEYtKqi"
      },
      "source": [
        "# one-hot 表現に変換"
      ]
    },
    {
      "cell_type": "code",
      "execution_count": null,
      "metadata": {
        "id": "vR-WYnOltKqj"
      },
      "outputs": [],
      "source": [
        "'''one-hot表現'''\n",
        "\n",
        "def one_hot_t(n, t):\n",
        "    nums = np.arange(n)\n",
        "    return np.where(nums==t, 1, 0)"
      ]
    },
    {
      "cell_type": "markdown",
      "metadata": {
        "id": "hRiOFx1jtKql"
      },
      "source": [
        "# 活性化関数"
      ]
    },
    {
      "cell_type": "markdown",
      "metadata": {
        "id": "JUiSRxzgtKqn"
      },
      "source": [
        "## Sigmoid"
      ]
    },
    {
      "cell_type": "code",
      "execution_count": null,
      "metadata": {
        "id": "h6bYUESatKqp"
      },
      "outputs": [],
      "source": [
        "def sigmoid(u): # シグモイド関数　1/(1+exp(-x))\n",
        "    return 1.0 / (1.0 + np.exp(-1 * u))"
      ]
    },
    {
      "cell_type": "code",
      "execution_count": null,
      "metadata": {
        "id": "LTPhMww_tKqr"
      },
      "outputs": [],
      "source": [
        "def diff_sigmoid(u): # シグモイド関数　微分\n",
        "    return sigmoid(u) * (1.0 - sigmoid(u))"
      ]
    },
    {
      "cell_type": "markdown",
      "metadata": {
        "id": "4JXh3Pe8tKqs"
      },
      "source": [
        "## ReLU"
      ]
    },
    {
      "cell_type": "code",
      "execution_count": null,
      "metadata": {
        "id": "lSUNC4TutKqu"
      },
      "outputs": [],
      "source": [
        "def relu(u):\n",
        "    return np.maximum(0.0, u) # 0とu　どちらが大きいか"
      ]
    },
    {
      "cell_type": "code",
      "execution_count": null,
      "metadata": {
        "id": "R2vOhi0WtKqv"
      },
      "outputs": [],
      "source": [
        "def diff_relu(u):\n",
        "    return np.where(u > 0.0, 1.0, 0.0) # 0より大きいなら1、小さいなら0"
      ]
    },
    {
      "cell_type": "markdown",
      "metadata": {
        "id": "yDkGTX-1tKqw"
      },
      "source": [
        "## Leaky ReLU"
      ]
    },
    {
      "cell_type": "code",
      "execution_count": null,
      "metadata": {
        "id": "kDZ1jJi9tKqw"
      },
      "outputs": [],
      "source": [
        "def leaky_relu(u, alpha=0.01):\n",
        "    return np.where(u > 0.0, u, alpha * u) # 0より大きいならu、小さいなら0.01*u"
      ]
    },
    {
      "cell_type": "code",
      "execution_count": null,
      "metadata": {
        "id": "dFa4RMt2tKqy"
      },
      "outputs": [],
      "source": [
        "def diff_leaky_relu(u, alpha=0.01):\n",
        "    return np.where(u > 0.0, 1.0, alpha)  #0より大きいなら1、小さいなら0.01"
      ]
    },
    {
      "cell_type": "markdown",
      "metadata": {
        "id": "8XI9c7GTtKqz"
      },
      "source": [
        "## Swish"
      ]
    },
    {
      "cell_type": "code",
      "execution_count": null,
      "metadata": {
        "id": "UisM4u9rtKqz"
      },
      "outputs": [],
      "source": [
        "def swish(u):\n",
        "    return u * sigmoid(u) # 入力*シグモイド関数"
      ]
    },
    {
      "cell_type": "code",
      "execution_count": null,
      "metadata": {
        "id": "3XCTFJP8tKq0"
      },
      "outputs": [],
      "source": [
        "def diff_swish(u):\n",
        "    return swish(u) + (sigmoid(u) * (1.0 - swish(u))) # 導関数の式"
      ]
    },
    {
      "cell_type": "markdown",
      "metadata": {
        "id": "ML3rPVJOtKq2"
      },
      "source": [
        "## Mish"
      ]
    },
    {
      "cell_type": "code",
      "execution_count": null,
      "metadata": {
        "id": "mc8RwhY2tKq2"
      },
      "outputs": [],
      "source": [
        "def mish(u):\n",
        "\n",
        "    def softplus(u): # ソフトプラス関数\n",
        "        return np.log(1.0 + np.exp(u))\n",
        "\n",
        "    return u * np.tanh(softplus(u))"
      ]
    },
    {
      "cell_type": "code",
      "execution_count": null,
      "metadata": {
        "id": "ajt7Nle9tKq3"
      },
      "outputs": [],
      "source": [
        "def diff_mish(u):\n",
        "\n",
        "    def omega(u):\n",
        "        return 4*(u+1) + 4*np.exp(2*u) + np.exp(3*u) + np.exp(u)*(4*u+6)\n",
        "\n",
        "    def delta(u):\n",
        "        return 2*np.exp(u) + np.exp(2*u) + 2\n",
        "\n",
        "    return np.exp(u) * omega(u) / delta(u)**2"
      ]
    },
    {
      "cell_type": "markdown",
      "metadata": {
        "id": "bMLhwTWHtKq4"
      },
      "source": [
        "## 活性化関数の呼び出し"
      ]
    },
    {
      "cell_type": "code",
      "execution_count": null,
      "metadata": {
        "id": "jhqkDgogtKq5"
      },
      "outputs": [],
      "source": [
        "def activate(u, act_func): # 入力値u、何の活性化関数かact_func\n",
        "    if act_func == 'sigmoid':\n",
        "        return sigmoid(u)\n",
        "    elif act_func == 'relu':\n",
        "        return relu(u)\n",
        "    elif act_func == 'leaky_relu':\n",
        "        return leaky_relu(u)\n",
        "    elif act_func == 'swish':\n",
        "        return swish(u)\n",
        "    elif act_func == 'mish':\n",
        "        return mish(u)"
      ]
    },
    {
      "cell_type": "code",
      "execution_count": null,
      "metadata": {
        "id": "33D_gd6TtKq5"
      },
      "outputs": [],
      "source": [
        "def diff_activate(u, act_func):\n",
        "    if act_func == 'sigmoid':\n",
        "        return diff_sigmoid(u)\n",
        "    elif act_func == 'relu':\n",
        "        return diff_relu(u)\n",
        "    elif act_func == 'leaky_relu':\n",
        "        return diff_leaky_relu(u)\n",
        "    elif act_func == 'swish':\n",
        "        return diff_swish(u)\n",
        "    elif act_func == 'mish':\n",
        "        return diff_mish(u)"
      ]
    },
    {
      "cell_type": "markdown",
      "metadata": {
        "id": "EEwhA8R7tKq6"
      },
      "source": [
        "## Softmax 関数"
      ]
    },
    {
      "cell_type": "code",
      "execution_count": null,
      "metadata": {
        "id": "fR-3unxmtKq7"
      },
      "outputs": [],
      "source": [
        "def softmax(u):\n",
        "    u_max = max(u) # exp(x)はすぐオーバフローするので、一番大きいものから引く\n",
        "    ux = np.exp(u - u_max)\n",
        "    return ux / np.sum(ux) # exp(u)/Σexp(u)"
      ]
    },
    {
      "cell_type": "markdown",
      "metadata": {
        "id": "g4QIds8FtKq8"
      },
      "source": [
        "## 損失関数（クロスエントロピー誤差）"
      ]
    },
    {
      "cell_type": "code",
      "execution_count": null,
      "metadata": {
        "id": "pI5GoalBtKq9"
      },
      "outputs": [],
      "source": [
        "'''損失関数（クロスエントロピー誤差）'''\n",
        "\n",
        "def E(z, t):\n",
        "    logz = np.log(z + 0.0000001) # zは0~1なので、log(0)のエラーを回避する\n",
        "    t_logz = t * logz\n",
        "    return -1 * np.sum(t_logz)"
      ]
    },
    {
      "cell_type": "markdown",
      "metadata": {
        "id": "usVZvSfGtKq-"
      },
      "source": [
        "# 初期化処理"
      ]
    },
    {
      "cell_type": "code",
      "execution_count": null,
      "metadata": {
        "id": "r67nQqIAtKq-"
      },
      "outputs": [],
      "source": [
        "'''重みの初期化'''\n",
        "\n",
        "def initialize_w(count_unit, count_input, init_type):\n",
        "    if init_type == 'He':\n",
        "        return np.random.randn(count_unit, count_input) * np.sqrt(2 / count_input)      #Heの初期値\n",
        "    elif init_type == 'Xavier':\n",
        "        return np.random.randn(count_unit, count_input) / np.sqrt(count_unit)          #Xavierの初期値"
      ]
    },
    {
      "cell_type": "code",
      "execution_count": null,
      "metadata": {
        "id": "pXoMO_EttKq_"
      },
      "outputs": [],
      "source": [
        "'''重みとバイアスの初期値を設定'''\n",
        "\n",
        "def set_w(count_data, count_h1, count_h2, count_out):\n",
        "\n",
        "    w_h1 = initialize_w(count_h1, count_data, \"He\")\n",
        "    b_h1 = np.zeros(count_h1)\n",
        "\n",
        "    w_h2 = initialize_w(count_h2, count_h1, \"He\")\n",
        "    b_h2 = np.zeros(count_h2)\n",
        "\n",
        "    w_out = initialize_w(count_out, count_h2, \"Xavier\")\n",
        "    b_out = np.zeros(count_out)\n",
        "\n",
        "    return w_h1, b_h1, w_h2, b_h2, w_out, b_out"
      ]
    },
    {
      "cell_type": "markdown",
      "metadata": {
        "id": "dR-3PAQ5tKrA"
      },
      "source": [
        "# ハイパーパラメータ等の設定"
      ]
    },
    {
      "cell_type": "code",
      "execution_count": null,
      "metadata": {
        "id": "IWSnQj-stKrA"
      },
      "outputs": [],
      "source": [
        "'''設定（設定を変更する場合はここを変更）'''\n",
        "\n",
        "np.random.seed(1)           # ランダムのタネを固定\n",
        "\n",
        "eta = 0.01                  # 学習率\n",
        "max_epoch = 1000            # 最大エポック数(何回学習させるか)\n",
        "min_loss = 0.01             # 最小誤差\n",
        "\n",
        "target_data = 'test' # 何のデータを使用するか(今回はテストデータ)\n",
        "\n",
        "# 活性化関数をひとつ選択\n",
        "#act_func = 'sigmoid'\n",
        "act_func = 'relu'\n",
        "#act_func = 'leaky_relu'\n",
        "#act_func = 'swish'\n",
        "#act_func = 'mish'"
      ]
    },
    {
      "cell_type": "code",
      "execution_count": null,
      "metadata": {
        "id": "5uGoRFONtKrB"
      },
      "outputs": [],
      "source": [
        "'''データの読み込みとユニット数の設定'''\n",
        "\n",
        "if target_data == 'test': # テストデータ使用\n",
        "    x_trains, t_trains, x_tests, t_tests = set_data_test() # 読み込み\n",
        "    count_h1 = 3 # 隠れ層のユニット\n",
        "    count_h2 = 2 # 隠れ層二層目のユニット\n",
        "    count_out = 3 # 出力層(A,B,Cの三つ)"
      ]
    },
    {
      "cell_type": "code",
      "execution_count": null,
      "metadata": {
        "id": "qeerRBt3tKrC"
      },
      "outputs": [],
      "source": [
        "'''重みとバイアスの初期化'''\n",
        "\n",
        "w_h1, b_h1, w_h2, b_h2, w_out, b_out = set_w(x_trains.shape[1], count_h1, count_h2, count_out)"
      ]
    },
    {
      "cell_type": "code",
      "source": [
        "x_trains # 訓練データ(x1とx2)"
      ],
      "metadata": {
        "id": "O035cgt8cM9Y"
      },
      "execution_count": null,
      "outputs": []
    },
    {
      "cell_type": "code",
      "source": [
        "t_trains # 教師データ(A=0,B=1,C=2)"
      ],
      "metadata": {
        "id": "3wC6OHbBceOO"
      },
      "execution_count": null,
      "outputs": []
    },
    {
      "cell_type": "markdown",
      "metadata": {
        "id": "1VWUPxnetKrD"
      },
      "source": [
        "# 学習"
      ]
    },
    {
      "cell_type": "code",
      "execution_count": null,
      "metadata": {
        "scrolled": true,
        "colab": {
          "base_uri": "https://localhost:8080/"
        },
        "id": "4cH2EaH8tKrD",
        "outputId": "d0b9bcfe-6e7a-43ea-a055-20ed761fca51"
      },
      "outputs": [
        {
          "output_type": "stream",
          "name": "stdout",
          "text": [
            "i:0 / loss:1.257150794976698\n",
            "i:10 / loss:0.5044669068197116\n",
            "i:20 / loss:0.3228589609631314\n",
            "i:30 / loss:0.23273352442107403\n",
            "i:40 / loss:0.1688445083396269\n",
            "i:50 / loss:0.12063933705368901\n",
            "i:60 / loss:0.09027970739033402\n",
            "i:70 / loss:0.07482541383925238\n",
            "i:80 / loss:0.06270393083986951\n",
            "i:90 / loss:0.05545407766406404\n",
            "i:100 / loss:0.049960804418541255\n",
            "i:110 / loss:0.04521606455968983\n",
            "i:120 / loss:0.04029050956459274\n",
            "i:130 / loss:0.0371588725205115\n",
            "i:140 / loss:0.03548827145823615\n",
            "i:150 / loss:0.03349145866726217\n",
            "i:160 / loss:0.03126826600380495\n",
            "i:170 / loss:0.029220773320275846\n",
            "i:180 / loss:0.027319413622193187\n",
            "i:190 / loss:0.02627582772751103\n",
            "i:200 / loss:0.02274495918969264\n",
            "i:210 / loss:0.023376522483159905\n",
            "i:220 / loss:0.021164168843304125\n",
            "i:230 / loss:0.019787854664422237\n",
            "i:240 / loss:0.02077942083020437\n",
            "i:250 / loss:0.01817329708970161\n",
            "i:260 / loss:0.01868929582406792\n",
            "i:270 / loss:0.0179161077786353\n",
            "i:280 / loss:0.017576993436128573\n",
            "i:290 / loss:0.016507990541321325\n",
            "i:300 / loss:0.01583844985521923\n",
            "i:310 / loss:0.01478428095541953\n",
            "i:320 / loss:0.015010273182352799\n",
            "i:330 / loss:0.013936984176957035\n",
            "i:340 / loss:0.014014507650539292\n",
            "i:350 / loss:0.013206080096923723\n",
            "i:360 / loss:0.013183987771419572\n",
            "i:370 / loss:0.01255843067846932\n",
            "i:380 / loss:0.012423323090559856\n",
            "i:390 / loss:0.011985709980421705\n",
            "i:400 / loss:0.011752760620355062\n",
            "i:410 / loss:0.011450149660474805\n",
            "i:420 / loss:0.011189974725653985\n",
            "i:430 / loss:0.010937377233869236\n",
            "i:440 / loss:0.010697886192773039\n",
            "i:450 / loss:0.01046989502064663\n",
            "i:460 / loss:0.010252662242710252\n",
            "i:470 / loss:0.010045481336766394\n",
            ">> i:474 / loss:0.009965279197397398\n"
          ]
        }
      ],
      "source": [
        "'''学習フェーズ'''\n",
        "\n",
        "## data_count = x_datas.shape[0]\n",
        "data_count = x_trains.shape[0]\n",
        "\n",
        "history = []\n",
        "for i in range(max_epoch):\n",
        "    loss = 0\n",
        "\n",
        "    ''' # 消してもOK\n",
        "    t0 = 0\n",
        "    t1 = 0\n",
        "    t2 = 0\n",
        "    '''\n",
        "    for data in range(data_count):\n",
        "        ## 前回\n",
        "        ## x = x_datas[data]\n",
        "        ## t = one_hot_t(count_out, int(t_datas[data])) \n",
        "\n",
        "        x = x_trains[data]\n",
        "        t = one_hot_t(count_out, int(t_trains[data]))\n",
        "        \n",
        "        '''順伝播''' #入力層から出力層に計算すること\n",
        "        # 隠れ層1\n",
        "        u_h1 = np.dot(w_h1, x) + b_h1 # 入力値に、隠れ層1の重みをかけて、バイアスを足す\n",
        "        ## z_h1 = activate(u_h1)\n",
        "        z_h1 = activate(u_h1, act_func) # 活性化関数を引数に\n",
        "        \n",
        "        # 隠れ層2\n",
        "        u_h2 = np.dot(w_h2, z_h1) + b_h2\n",
        "        ## z_h2 = activate(u_h2)\n",
        "        z_h2 = activate(u_h2, act_func)\n",
        "        \n",
        "        # 出力層\n",
        "        u_out = np.dot(w_out, z_h2) + b_out\n",
        "        z_out = softmax(u_out) # ソフトマックス\n",
        "        \n",
        "        '''\n",
        "        if t.argmax() == z_out.argmax():\n",
        "            if t.argmax() == 0:\n",
        "                t0 = 1\n",
        "            elif t.argmax() == 1:\n",
        "                t1 = 1\n",
        "            elif t.argmax() == 2:\n",
        "                t2 = 1\n",
        "        '''\n",
        "        \n",
        "        # 損失値\n",
        "        loss += E(z_out, t)\n",
        "        \n",
        "        '''逆伝播'''\n",
        "        # 出力層\n",
        "        delta_out = z_out - t\n",
        "        dw_out = np.outer(delta_out, z_h2)\n",
        "        db_out = delta_out\n",
        "        \n",
        "        # 隠れ層2\n",
        "        ## delta_h2 = np.dot(w_out.T, delta_out) * diff_activate(u_h2)\n",
        "        delta_h2 = np.dot(w_out.T, delta_out) * diff_activate(u_h2, act_func)\n",
        "        dw_h2 = np.outer(delta_h2, z_h1)\n",
        "        db_h2 = delta_h2\n",
        "        \n",
        "        # 隠れ層1\n",
        "        ## delta_h1 = np.dot(w_h2.T, delta_h2) * diff_activate(u_h1)\n",
        "        delta_h1 = np.dot(w_h2.T, delta_h2) * diff_activate(u_h1, act_func)\n",
        "        dw_h1 = np.outer(delta_h1, x)\n",
        "        db_h1 = delta_h1\n",
        "        \n",
        "        # 重みとバイアスの更新\n",
        "        w_out -= (eta * dw_out)\n",
        "        b_out -= (eta * db_out)\n",
        "        w_h2 -= (eta * dw_h2)\n",
        "        b_h2 -= (eta * db_h2)\n",
        "        w_h1 -= (eta * dw_h1)\n",
        "        b_h1 -= (eta * db_h1)\n",
        "        \n",
        "    loss /= data_count\n",
        "    history.append(loss)\n",
        "    \n",
        "    if i % 10 == 0:\n",
        "        print(f'i:{i} / loss:{loss}')\n",
        "    \n",
        "    # 前回\n",
        "    '''\n",
        "    # 全部正解したら処理を抜ける\n",
        "    if (t0 + t1 + t2) == 3:\n",
        "        print('ok')\n",
        "        break\n",
        "    '''\n",
        "    \n",
        "    # loss が 充分小さくなったら処理を抜ける\n",
        "    if loss < min_loss:\n",
        "        break\n",
        "        \n",
        "print(f'>> i:{i} / loss:{loss}')"
      ]
    },
    {
      "cell_type": "code",
      "execution_count": null,
      "metadata": {
        "scrolled": true,
        "colab": {
          "base_uri": "https://localhost:8080/",
          "height": 35
        },
        "id": "jD1hViSctKrG",
        "outputId": "4449cb4d-e4f2-4ea2-8d65-09acb707a376"
      },
      "outputs": [
        {
          "output_type": "execute_result",
          "data": {
            "text/plain": [
              "'重みとバイアスの値を外部ファイルに保存'"
            ],
            "application/vnd.google.colaboratory.intrinsic+json": {
              "type": "string"
            }
          },
          "metadata": {},
          "execution_count": 63
        }
      ],
      "source": [
        "'''重みとバイアスの値を外部ファイルに保存'''\n",
        "\n",
        "#np.savez('param_nn.npz', w_h1=w_h1, b_h1=b_h1, w_h2=w_h2, b_h2 = b_h2, w_out=w_out)"
      ]
    },
    {
      "cell_type": "markdown",
      "metadata": {
        "id": "K7ZnaKDVtKrH"
      },
      "source": [
        "# テスト"
      ]
    },
    {
      "cell_type": "code",
      "execution_count": null,
      "metadata": {
        "colab": {
          "base_uri": "https://localhost:8080/"
        },
        "id": "M_8hfmnktKrI",
        "outputId": "103cb012-4273-46e4-856c-37d6884f62e6"
      },
      "outputs": [
        {
          "output_type": "stream",
          "name": "stdout",
          "text": [
            "150/150 : accuracy:100.0\n"
          ]
        }
      ],
      "source": [
        "'''テスト'''\n",
        "\n",
        "correct = 0\n",
        "data_count = x_tests.shape[0]\n",
        "uncorrect_indexes = []            # 不正解データのインデックス格納用\n",
        "for idx in range(data_count):\n",
        "    x = x_tests[idx]        \n",
        "    t = one_hot_t(count_out, int(t_tests[idx]))\n",
        "    \n",
        "    # 順伝播\n",
        "    u_h1 = np.dot(w_h1, x) + b_h1\n",
        "    z_h1 = activate(u_h1, act_func)\n",
        "    u_h2 = np.dot(w_h2, z_h1) + b_h2\n",
        "    z_h2 = activate(u_h2, act_func)\n",
        "    u_out = np.dot(w_out, z_h2) + b_out\n",
        "    z_out = softmax(u_out)\n",
        "    \n",
        "    if t.argmax() == z_out.argmax():\n",
        "        correct += 1\n",
        "    else:\n",
        "        uncorrect_indexes.append(idx)\n",
        "\n",
        "accuracy = correct / data_count * 100\n",
        "print(f'{correct}/{data_count} : accuracy:{accuracy}')"
      ]
    },
    {
      "cell_type": "code",
      "execution_count": null,
      "metadata": {
        "colab": {
          "base_uri": "https://localhost:8080/"
        },
        "id": "FlrGmV_1tKrJ",
        "outputId": "e0268a23-1d31-4a22-bbaf-466d6684824e"
      },
      "outputs": [
        {
          "output_type": "execute_result",
          "data": {
            "text/plain": [
              "[]"
            ]
          },
          "metadata": {},
          "execution_count": 65
        }
      ],
      "source": [
        "'''不正解データのインデックス'''\n",
        "\n",
        "uncorrect_indexes"
      ]
    },
    {
      "cell_type": "code",
      "execution_count": null,
      "metadata": {
        "scrolled": true,
        "colab": {
          "base_uri": "https://localhost:8080/",
          "height": 279
        },
        "id": "5ou97LdvtKrK",
        "outputId": "4b134007-8e17-434d-b02d-263bc0888972"
      },
      "outputs": [
        {
          "output_type": "display_data",
          "data": {
            "text/plain": [
              "<Figure size 432x288 with 1 Axes>"
            ],
            "image/png": "[encoded data removed]"
          },
          "metadata": {
            "needs_background": "light"
          }
        }
      ],
      "source": [
        "'''誤差のグラフ表示'''\n",
        "\n",
        "x = np.arange(len(history))\n",
        "y = history\n",
        "\n",
        "plt.plot(x, y)\n",
        "plt.xlabel('epoch')\n",
        "plt.ylabel('loss')\n",
        "plt.grid(True)\n",
        "plt.show()"
      ]
    },
    {
      "cell_type": "code",
      "execution_count": null,
      "metadata": {
        "id": "8OlVkd26tKrL"
      },
      "outputs": [],
      "source": [
        "'''nn_test'''\n",
        "\n",
        "index = 0\n",
        "x = x_tests[index]"
      ]
    },
    {
      "cell_type": "code",
      "source": [
        "x # 答えはC(=2)"
      ],
      "metadata": {
        "colab": {
          "base_uri": "https://localhost:8080/"
        },
        "id": "hTQMuvr4oTq-",
        "outputId": "9e579061-68a6-4385-fd03-74787f38105f"
      },
      "execution_count": null,
      "outputs": [
        {
          "output_type": "execute_result",
          "data": {
            "text/plain": [
              "array([1.8, 0.8], dtype=float32)"
            ]
          },
          "metadata": {},
          "execution_count": 68
        }
      ]
    },
    {
      "cell_type": "code",
      "execution_count": null,
      "metadata": {
        "colab": {
          "base_uri": "https://localhost:8080/"
        },
        "id": "UNow2A7dtKrL",
        "outputId": "f33942b3-5bcd-4c66-bba3-234aafd77a46"
      },
      "outputs": [
        {
          "output_type": "stream",
          "name": "stdout",
          "text": [
            "t:2 / nn_answer:2\n"
          ]
        }
      ],
      "source": [
        "'''推論'''\n",
        "\n",
        "t = one_hot_t(count_out, int(t_tests[index]))\n",
        "    \n",
        "u_h1 = np.dot(w_h1, x) + b_h1\n",
        "z_h1 = activate(u_h1, act_func)\n",
        "u_h2 = np.dot(w_h2, z_h1) + b_h2\n",
        "z_h2 = activate(u_h2, act_func)\n",
        "u_out = np.dot(w_out, z_h2) + b_out\n",
        "z_out = softmax(u_out)\n",
        "    \n",
        "print(f't:{t.argmax()} / nn_answer:{z_out.argmax()}')"
      ]
    },
    {
      "cell_type": "code",
      "execution_count": null,
      "metadata": {
        "colab": {
          "base_uri": "https://localhost:8080/"
        },
        "id": "GwzKDmvZtKrM",
        "outputId": "2b361107-dae4-4798-def6-27ddda15beb6"
      },
      "outputs": [
        {
          "output_type": "stream",
          "name": "stdout",
          "text": [
            "nn_answer:1\n"
          ]
        }
      ],
      "source": [
        "'''推論（未知のデータ）'''\n",
        "\n",
        "x = np.array([1.7, 2.0])\n",
        "\n",
        "u_h1 = np.dot(w_h1, x) + b_h1\n",
        "z_h1 = activate(u_h1, act_func)\n",
        "u_h2 = np.dot(w_h2, z_h1) + b_h2\n",
        "z_h2 = activate(u_h2, act_func)\n",
        "u_out = np.dot(w_out, z_h2) + b_out\n",
        "z_out = softmax(u_out)\n",
        "    \n",
        "print(f'nn_answer:{z_out.argmax()}')"
      ]
    },
    {
      "cell_type": "code",
      "execution_count": null,
      "metadata": {
        "colab": {
          "base_uri": "https://localhost:8080/"
        },
        "id": "S5dFr65PtKrO",
        "outputId": "3324b0e5-22c6-4110-b307-da57ce40af86"
      },
      "outputs": [
        {
          "output_type": "stream",
          "name": "stdout",
          "text": [
            "nn_answer:2\n"
          ]
        }
      ],
      "source": [
        "'''推論（未知のデータ）''' \n",
        "\n",
        "x = np.array([3.4, 1.0])\n",
        "\n",
        "u_h1 = np.dot(w_h1, x) + b_h1\n",
        "z_h1 = activate(u_h1, act_func)\n",
        "u_h2 = np.dot(w_h2, z_h1) + b_h2\n",
        "z_h2 = activate(u_h2, act_func)\n",
        "u_out = np.dot(w_out, z_h2) + b_out\n",
        "z_out = softmax(u_out)\n",
        "    \n",
        "print(f'nn_answer:{z_out.argmax()}')"
      ]
    }
  ],
  "metadata": {
    "kernelspec": {
      "display_name": "Python 3",
      "language": "python",
      "name": "python3"
    },
    "language_info": {
      "codemirror_mode": {
        "name": "ipython",
        "version": 3
      },
      "file_extension": ".py",
      "mimetype": "text/x-python",
      "name": "python",
      "nbconvert_exporter": "python",
      "pygments_lexer": "ipython3",
      "version": "3.8.3"
    },
    "colab": {
      "name": "NeuralNetwork_04_01_testdata.ipynb",
      "provenance": [],
      "collapsed_sections": [],
      "include_colab_link": true
    }
  },
  "nbformat": 4,
  "nbformat_minor": 0
}